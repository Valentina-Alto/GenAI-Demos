{
 "cells": [
  {
   "cell_type": "markdown",
   "metadata": {},
   "source": [
    "# Consuming your Prompt Flow as a managed endpoint"
   ]
  },
  {
   "cell_type": "code",
   "execution_count": 16,
   "metadata": {},
   "outputs": [
    {
     "name": "stdout",
     "output_type": "stream",
     "text": [
      "OpenAI is a U.S. based artificial intelligence (AI) research organization that was founded in December 2015. It is dedicated to researching artificial intelligence with the aim of developing \"safe and beneficial\" artificial general intelligence, which it defines as \"highly autonomous systems that outperform humans at most economically valuable work\". OpenAI has been instrumental in the development of several large language models, advanced image generation models, and has released open-source models. The organization consists of the non-profit OpenAI, Inc. registered in Delaware and its for-profit subsidiary OpenAI Global, LLC. It was founded by a team of AI researchers and entrepreneurs, with Microsoft providing significant investment. OpenAI is headquartered in San Francisco. Its release of ChatGPT has been credited with starting the artificial intelligence spring.\n",
      "\n",
      "SOURCES: \n",
      "- https://en.wikipedia.org/w/index.php?search=OpenAI\n",
      "- https://en.wikipedia.org/w/index.php?search=ChatGPT\n"
     ]
    }
   ],
   "source": [
    "import urllib.request\n",
    "import json\n",
    "import os\n",
    "import ssl\n",
    "\n",
    "def allowSelfSignedHttps(allowed):\n",
    "    # bypass the server certificate verification on client side\n",
    "    if allowed and not os.environ.get('PYTHONHTTPSVERIFY', '') and getattr(ssl, '_create_unverified_context', None):\n",
    "        ssl._create_default_https_context = ssl._create_unverified_context\n",
    "\n",
    "allowSelfSignedHttps(True) # this line is needed if you use self-signed certificate in your scoring service.\n",
    "\n",
    "# Request data goes here\n",
    "# The example below assumes JSON formatting which may be updated\n",
    "# depending on the format your endpoint expects.\n",
    "# More information can be found here:\n",
    "# https://docs.microsoft.com/azure/machine-learning/how-to-deploy-advanced-entry-script\n",
    "query = \"what is openai?\"\n",
    "data = {\"question\": query}\n",
    "\n",
    "body = str.encode(json.dumps(data))\n",
    "\n",
    "url = \"your-pf-endpoint\"\n",
    "api_key = \"your-pf-api-key\"\n",
    "\n",
    "if not api_key:\n",
    "    raise Exception(\"A key should be provided to invoke the endpoint\")\n",
    "\n",
    "# The azureml-model-deployment header will force the request to go to a specific deployment.\n",
    "# Remove this header to have the request observe the endpoint traffic rules\n",
    "headers = {'Content-Type':'application/json', 'Authorization':('Bearer '+ api_key), 'azureml-model-deployment': 'wiki-deployment' }\n",
    "\n",
    "req = urllib.request.Request(url, body, headers)\n",
    "\n",
    "try:\n",
    "    response = urllib.request.urlopen(req)\n",
    "    result = response.read()\n",
    "    answer = json.loads(result.decode(\"utf-8\"))[\"answer\"]\n",
    "    print(answer)\n",
    "except urllib.error.HTTPError as error:\n",
    "    print(\"The request failed with status code: \" + str(error.code))\n",
    "\n",
    "    # Print the headers - they include the requert ID and the timestamp, which are useful for debugging the failure\n",
    "    print(error.info())\n",
    "    print(error.read().decode(\"utf8\", 'ignore'))"
   ]
  },
  {
   "cell_type": "code",
   "execution_count": 17,
   "metadata": {},
   "outputs": [],
   "source": [
    "def calling_pf(query):\n",
    "    data = {\"question\": query}\n",
    "\n",
    "    body = str.encode(json.dumps(data))\n",
    "    headers = {'Content-Type':'application/json', 'Authorization':('Bearer '+ api_key), 'azureml-model-deployment': 'wiki-deployment' }\n",
    "\n",
    "    req = urllib.request.Request(url, body, headers)\n",
    "\n",
    "    try:\n",
    "        response = urllib.request.urlopen(req)\n",
    "        result = response.read()\n",
    "        answer = json.loads(result.decode(\"utf-8\"))[\"answer\"]\n",
    "        print(answer)\n",
    "    except urllib.error.HTTPError as error:\n",
    "        print(\"The request failed with status code: \" + str(error.code))\n",
    "\n",
    "        # Print the headers - they include the requert ID and the timestamp, which are useful for debugging the failure\n",
    "        print(error.info())\n",
    "        print(error.read().decode(\"utf8\", 'ignore'))"
   ]
  },
  {
   "cell_type": "code",
   "execution_count": 18,
   "metadata": {},
   "outputs": [
    {
     "name": "stdout",
     "output_type": "stream",
     "text": [
      "OpenAI is a U.S. based artificial intelligence (AI) research organization that was founded in December 2015. The organization's goal is to develop \"safe and beneficial\" artificial general intelligence, which they define as \"highly autonomous systems that outperform humans at most economically valuable work\". OpenAI has been a leading organization in the AI Spring, developing several large language models, advanced image generation models, and releasing open-source models. Their release of ChatGPT has been credited with starting the artificial intelligence spring. The organization consists of the non-profit OpenAI, Inc. registered in Delaware and its for-profit subsidiary OpenAI Global, LLC. It was founded by several individuals, with Sam Altman and Elon Musk serving as the initial board members. OpenAI is headquartered at the Pioneer Building in Mission District, San Francisco.\n",
      "\n",
      "SOURCES: https://en.wikipedia.org/w/index.php?search=OpenAI\n"
     ]
    }
   ],
   "source": [
    "calling_pf('what is openai?')"
   ]
  }
 ],
 "metadata": {
  "kernelspec": {
   "display_name": "base",
   "language": "python",
   "name": "python3"
  },
  "language_info": {
   "codemirror_mode": {
    "name": "ipython",
    "version": 3
   },
   "file_extension": ".py",
   "mimetype": "text/x-python",
   "name": "python",
   "nbconvert_exporter": "python",
   "pygments_lexer": "ipython3",
   "version": "3.11.5"
  }
 },
 "nbformat": 4,
 "nbformat_minor": 2
}
