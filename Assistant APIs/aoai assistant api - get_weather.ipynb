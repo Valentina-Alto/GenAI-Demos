{
 "cells": [
  {
   "cell_type": "markdown",
   "metadata": {},
   "source": [
    "# Function calling with Assistants API"
   ]
  },
  {
   "cell_type": "code",
   "execution_count": 72,
   "metadata": {},
   "outputs": [],
   "source": [
    "tools_list = [\n",
    "{\"type\": \"function\",\n",
    "\"function\": {\n",
    "        \"name\": \"get_weather\",\n",
    "        \"description\": \"Determine weather in a certain location\",\n",
    "        \"parameters\": {\n",
    "            \"type\": \"object\",\n",
    "            \"properties\": {\n",
    "            \"location\": {\n",
    "                \"type\": \"string\",\n",
    "                \"description\": \"The city and country e.g. Paris (France)\"\n",
    "                }\n",
    "            },\n",
    "            \"required\": [\n",
    "                \"location\"\n",
    "            ]\n",
    "        }\n",
    "    }\n",
    "}\n",
    "]"
   ]
  },
  {
   "cell_type": "code",
   "execution_count": 79,
   "metadata": {},
   "outputs": [],
   "source": [
    "assistant = client.beta.assistants.create(\n",
    "    name=\"AI Assistant\",\n",
    "    instructions=\"You are a personal AI Assistant\", \n",
    "    model=\"gpt-4-turbo\", \n",
    "    tools=tools_list\n",
    ")\n",
    "\n",
    "# Step 2: Create a Thread\n",
    "thread = client.beta.threads.create()\n",
    "\n",
    "# Step 3: Add a Message to a Thread\n",
    "message = client.beta.threads.messages.create(\n",
    "    thread_id=thread.id,\n",
    "    role=\"user\",\n",
    "    content=\"What is the current weather in Milan?\"\n",
    ")\n",
    "\n",
    "# Step 4: Run the Assistant\n",
    "run = client.beta.threads.runs.create(\n",
    "    thread_id=thread.id,\n",
    "    assistant_id=assistant.id,\n",
    "    instructions=\"Please address the user as Valentina.\"\n",
    ")"
   ]
  },
  {
   "cell_type": "code",
   "execution_count": 67,
   "metadata": {},
   "outputs": [
    {
     "name": "stdout",
     "output_type": "stream",
     "text": [
      "id: run_zfRTZMsSRaWHY78bnwBO8NjX\n",
      "assistant_id: asst_iLa8HAhgddX99aKLJJAwto5u\n",
      "cancelled_at: None\n",
      "completed_at: None\n",
      "created_at: 1711719541\n",
      "expires_at: 1711720141\n",
      "failed_at: None\n",
      "file_ids: []\n",
      "instructions: Please address the user as Valentina.\n",
      "last_error: None\n",
      "metadata: {}\n",
      "model: gpt-4-turbo\n",
      "object: thread.run\n",
      "required_action: None\n",
      "started_at: None\n",
      "status: queued\n",
      "thread_id: thread_yVPsV1GetYeAHJSnGN7ah4B0\n",
      "tools: [{'function': {'name': 'get_weather', 'description': 'Determine weather in a certain location', 'parameters': {'type': 'object', 'properties': {'location': {'type': 'string', 'description': 'The city and country e.g. Paris (France)'}}, 'required': ['location']}}, 'type': 'function'}]\n",
      "usage: None\n"
     ]
    }
   ],
   "source": [
    "import json\n",
    "\n",
    "json_output = run.json()\n",
    "data = json.loads(json_output)\n",
    "\n",
    "for key, value in data.items():\n",
    "    print(f\"{key}: {value}\")\n"
   ]
  },
  {
   "cell_type": "code",
   "execution_count": 58,
   "metadata": {},
   "outputs": [
    {
     "data": {
      "text/plain": [
       "'asst_Ff8lcQP3zyRZfWS3vACwNyDR'"
      ]
     },
     "execution_count": 58,
     "metadata": {},
     "output_type": "execute_result"
    }
   ],
   "source": [
    "assistant.id"
   ]
  },
  {
   "cell_type": "code",
   "execution_count": 56,
   "metadata": {},
   "outputs": [],
   "source": [
    "def get_weather(location):\n",
    "    base_url = \"https://api.openweathermap.org/data/2.5/weather?\"\n",
    "\n",
    "    complete_url = base_url + \"q=\" + location + \"&appid=\" + api_key + \"&units=metric\" #set your api key here\n",
    "    \n",
    "    response = requests.get(complete_url)\n",
    "    weather_condition = response.json()[\"weather\"][0][\"description\"]\n",
    "    temperature = response.json()[\"main\"][\"temp\"]\n",
    "    \n",
    "    return f\"\"\"Here is some information about the weather in {location}:\\n\n",
    "        - The weather is: {weather_condition}.\\n\n",
    "        - The temperature is: {temperature} degrees Celsius.\\n\n",
    "    \"\"\""
   ]
  },
  {
   "cell_type": "code",
   "execution_count": 82,
   "metadata": {},
   "outputs": [
    {
     "name": "stdout",
     "output_type": "stream",
     "text": [
      "{\n",
      "    \"id\": \"run_Rys3l7zd7uR94pRx64ETPu8s\",\n",
      "    \"assistant_id\": \"asst_QTz55diqssQmJrvmHxCbe9Y6\",\n",
      "    \"cancelled_at\": null,\n",
      "    \"completed_at\": null,\n",
      "    \"created_at\": 1711882075,\n",
      "    \"expires_at\": 1711882675,\n",
      "    \"failed_at\": null,\n",
      "    \"file_ids\": [],\n",
      "    \"instructions\": \"Please address the user as Valentina.\",\n",
      "    \"last_error\": null,\n",
      "    \"metadata\": {},\n",
      "    \"model\": \"gpt-4-turbo\",\n",
      "    \"object\": \"thread.run\",\n",
      "    \"required_action\": {\n",
      "        \"submit_tool_outputs\": {\n",
      "            \"tool_calls\": [\n",
      "                {\n",
      "                    \"id\": \"call_KoKKad9YKkHdqhMut2kh0peX\",\n",
      "                    \"function\": {\n",
      "                        \"arguments\": \"{\\\"location\\\":\\\"Milan, Italy\\\"}\",\n",
      "                        \"name\": \"get_weather\"\n",
      "                    },\n",
      "                    \"type\": \"function\"\n",
      "                }\n",
      "            ]\n",
      "        },\n",
      "        \"type\": \"submit_tool_outputs\"\n",
      "    },\n",
      "    \"started_at\": 1711882076,\n",
      "    \"status\": \"requires_action\",\n",
      "    \"thread_id\": \"thread_TSFeZyzOPZaH9PEmxu65qFpO\",\n",
      "    \"tools\": [\n",
      "        {\n",
      "            \"function\": {\n",
      "                \"name\": \"get_weather\",\n",
      "                \"description\": \"Determine weather in a certain location\",\n",
      "                \"parameters\": {\n",
      "                    \"type\": \"object\",\n",
      "                    \"properties\": {\n",
      "                        \"location\": {\n",
      "                            \"type\": \"string\",\n",
      "                            \"description\": \"The city and country e.g. Paris (France)\"\n",
      "                        }\n",
      "                    },\n",
      "                    \"required\": [\n",
      "                        \"location\"\n",
      "                    ]\n",
      "                }\n",
      "            },\n",
      "            \"type\": \"function\"\n",
      "        }\n",
      "    ],\n",
      "    \"usage\": null\n",
      "}\n",
      "Function Calling\n",
      "{'tool_calls': [{'id': 'call_KoKKad9YKkHdqhMut2kh0peX', 'function': {'arguments': '{\"location\":\"Milan, Italy\"}', 'name': 'get_weather'}, 'type': 'function'}]}\n",
      "Submitting outputs back to the Assistant...\n",
      "{\n",
      "    \"id\": \"run_Rys3l7zd7uR94pRx64ETPu8s\",\n",
      "    \"assistant_id\": \"asst_QTz55diqssQmJrvmHxCbe9Y6\",\n",
      "    \"cancelled_at\": null,\n",
      "    \"completed_at\": 1711882345,\n",
      "    \"created_at\": 1711882075,\n",
      "    \"expires_at\": null,\n",
      "    \"failed_at\": null,\n",
      "    \"file_ids\": [],\n",
      "    \"instructions\": \"Please address the user as Valentina.\",\n",
      "    \"last_error\": null,\n",
      "    \"metadata\": {},\n",
      "    \"model\": \"gpt-4-turbo\",\n",
      "    \"object\": \"thread.run\",\n",
      "    \"required_action\": null,\n",
      "    \"started_at\": 1711882344,\n",
      "    \"status\": \"completed\",\n",
      "    \"thread_id\": \"thread_TSFeZyzOPZaH9PEmxu65qFpO\",\n",
      "    \"tools\": [\n",
      "        {\n",
      "            \"function\": {\n",
      "                \"name\": \"get_weather\",\n",
      "                \"description\": \"Determine weather in a certain location\",\n",
      "                \"parameters\": {\n",
      "                    \"type\": \"object\",\n",
      "                    \"properties\": {\n",
      "                        \"location\": {\n",
      "                            \"type\": \"string\",\n",
      "                            \"description\": \"The city and country e.g. Paris (France)\"\n",
      "                        }\n",
      "                    },\n",
      "                    \"required\": [\n",
      "                        \"location\"\n",
      "                    ]\n",
      "                }\n",
      "            },\n",
      "            \"type\": \"function\"\n",
      "        }\n",
      "    ],\n",
      "    \"usage\": null\n",
      "}\n",
      "Assistant: The current weather in Milan, Italy, includes broken clouds with a temperature of 12.87 degrees Celsius.\n",
      "User: What is the current weather in Milan?\n"
     ]
    }
   ],
   "source": [
    "while True:\n",
    "    # Wait for 5 seconds\n",
    "    time.sleep(5)\n",
    "\n",
    "    # Retrieve the run status\n",
    "    run_status = client.beta.threads.runs.retrieve(\n",
    "        thread_id=thread.id,\n",
    "        run_id=run.id\n",
    "    )\n",
    "    print(run_status.model_dump_json(indent=4))\n",
    "\n",
    "    # If run is completed, get messages\n",
    "    if run_status.status == 'completed':\n",
    "        messages = client.beta.threads.messages.list(\n",
    "            thread_id=thread.id\n",
    "        )\n",
    "\n",
    "        # Loop through messages and print content based on role\n",
    "        for msg in messages.data:\n",
    "            role = msg.role\n",
    "            content = msg.content[0].text.value\n",
    "            print(f\"{role.capitalize()}: {content}\")\n",
    "\n",
    "        break\n",
    "    elif run_status.status == 'requires_action':\n",
    "        print(\"Function Calling\")\n",
    "        required_actions = run_status.required_action.submit_tool_outputs.model_dump()\n",
    "        print(required_actions)\n",
    "        tool_outputs = []\n",
    "        import json\n",
    "        for action in required_actions[\"tool_calls\"]:\n",
    "            func_name = action['function']['name']\n",
    "            arguments = json.loads(action['function']['arguments'])           \n",
    "            output = globals()[func_name](**arguments)  # Assuming functions are in the global scope\n",
    "            tool_outputs.append({\n",
    "                \"tool_call_id\": action['id'],\n",
    "                \"output\": output\n",
    "            })\n",
    "            \n",
    "        print(\"Submitting outputs back to the Assistant...\")\n",
    "        client.beta.threads.runs.submit_tool_outputs(\n",
    "            thread_id=thread.id,\n",
    "            run_id=run.id,\n",
    "            tool_outputs=tool_outputs\n",
    "        )\n",
    "    else:\n",
    "        print(\"Waiting for the Assistant to process...\")\n",
    "        time.sleep(5)"
   ]
  },
  {
   "cell_type": "code",
   "execution_count": 78,
   "metadata": {},
   "outputs": [
    {
     "data": {
      "text/plain": [
       "ThreadDeleted(id='thread_Bf4k39NALhPRPlbF4tiAs8dF', deleted=True, object='thread.deleted')"
      ]
     },
     "execution_count": 78,
     "metadata": {},
     "output_type": "execute_result"
    }
   ],
   "source": [
    "client.beta.threads.delete(thread_id = thread.id)"
   ]
  }
 ],
 "metadata": {
  "kernelspec": {
   "display_name": "base",
   "language": "python",
   "name": "python3"
  },
  "language_info": {
   "codemirror_mode": {
    "name": "ipython",
    "version": 3
   },
   "file_extension": ".py",
   "mimetype": "text/x-python",
   "name": "python",
   "nbconvert_exporter": "python",
   "pygments_lexer": "ipython3",
   "version": "3.11.7"
  }
 },
 "nbformat": 4,
 "nbformat_minor": 2
}
